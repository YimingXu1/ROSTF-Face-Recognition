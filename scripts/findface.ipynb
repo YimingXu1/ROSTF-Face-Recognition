{
 "cells": [
  {
   "cell_type": "code",
   "execution_count": 1,
   "metadata": {},
   "outputs": [
    {
     "name": "stdout",
     "output_type": "stream",
     "text": [
      "Being processed picture 1\n",
      "Being processed picture 4\n",
      "Being processed picture 7\n",
      "Being processed picture 10\n",
      "Being processed picture 13\n",
      "Being processed picture 16\n",
      "Being processed picture 19\n",
      "Being processed picture 22\n",
      "Being processed picture 25\n",
      "Being processed picture 27\n",
      "Being processed picture 30\n",
      "Being processed picture 33\n",
      "Being processed picture 36\n",
      "Being processed picture 39\n",
      "Being processed picture 41\n"
     ]
    },
    {
     "ename": "KeyboardInterrupt",
     "evalue": "",
     "output_type": "error",
     "traceback": [
      "\u001b[0;31m---------------------------------------------------------------------------\u001b[0m",
      "\u001b[0;31mKeyboardInterrupt\u001b[0m                         Traceback (most recent call last)",
      "\u001b[0;32m<ipython-input-1-27f69cdc4bb1>\u001b[0m in \u001b[0;36m<module>\u001b[0;34m()\u001b[0m\n\u001b[1;32m     44\u001b[0m         \u001b[0mgray_img\u001b[0m \u001b[0;34m=\u001b[0m \u001b[0mcv2\u001b[0m\u001b[0;34m.\u001b[0m\u001b[0mcvtColor\u001b[0m\u001b[0;34m(\u001b[0m\u001b[0mimg\u001b[0m\u001b[0;34m,\u001b[0m \u001b[0mcv2\u001b[0m\u001b[0;34m.\u001b[0m\u001b[0mCOLOR_BGR2GRAY\u001b[0m\u001b[0;34m)\u001b[0m\u001b[0;34m\u001b[0m\u001b[0m\n\u001b[1;32m     45\u001b[0m         \u001b[0;31m# 使用detector进行人脸检测\u001b[0m\u001b[0;34m\u001b[0m\u001b[0;34m\u001b[0m\u001b[0m\n\u001b[0;32m---> 46\u001b[0;31m         \u001b[0mdets\u001b[0m \u001b[0;34m=\u001b[0m \u001b[0mdetector\u001b[0m\u001b[0;34m(\u001b[0m\u001b[0mgray_img\u001b[0m\u001b[0;34m,\u001b[0m \u001b[0;36m1\u001b[0m\u001b[0;34m)\u001b[0m\u001b[0;34m\u001b[0m\u001b[0m\n\u001b[0m\u001b[1;32m     47\u001b[0m \u001b[0;34m\u001b[0m\u001b[0m\n\u001b[1;32m     48\u001b[0m         \u001b[0;32mfor\u001b[0m \u001b[0mi\u001b[0m\u001b[0;34m,\u001b[0m \u001b[0md\u001b[0m \u001b[0;32min\u001b[0m \u001b[0menumerate\u001b[0m\u001b[0;34m(\u001b[0m\u001b[0mdets\u001b[0m\u001b[0;34m)\u001b[0m\u001b[0;34m:\u001b[0m\u001b[0;34m\u001b[0m\u001b[0m\n",
      "\u001b[0;31mKeyboardInterrupt\u001b[0m: "
     ]
    }
   ],
   "source": [
    "# -*- codeing: utf-8 -*-\n",
    "import cv2\n",
    "import dlib\n",
    "import os\n",
    "import sys\n",
    "import random\n",
    "\n",
    "# 使用摄像头采集某人的人脸数据，保存到./my_faces目录\n",
    "\n",
    "output_dir = './my_faces'\n",
    "size = 64\n",
    "if not os.path.exists(output_dir):\n",
    "    os.makedirs(output_dir)\n",
    "\n",
    "# 改变图片的亮度与对比度\n",
    "def relight(img, light=1, bias=0):\n",
    "    w = img.shape[1]\n",
    "    h = img.shape[0]\n",
    "    #image = []\n",
    "    for i in range(0,w):\n",
    "        for j in range(0,h):\n",
    "            for c in range(3):\n",
    "                tmp = int(img[j,i,c]*light + bias)\n",
    "                if tmp > 255:\n",
    "                    tmp = 255\n",
    "                elif tmp < 0:\n",
    "                    tmp = 0\n",
    "                img[j, i, c] = tmp\n",
    "    return img\n",
    "\n",
    "# 使用dlib自带的frontal_face_detector作为我们的特征提取器\n",
    "detector = dlib.get_frontal_face_detector()\n",
    "# 打开摄像头 参数为输入流，可以为摄像头或视频文件\n",
    "camera = cv2.VideoCapture(0)\n",
    "\n",
    "index = 1\n",
    "while True:\n",
    "    if (index <= 10000):\n",
    "        print('Being processed picture %s' % index)\n",
    "        # 从摄像头读取照片\n",
    "        success, img = camera.read()\n",
    "        # 转为灰度图片\n",
    "        gray_img = cv2.cvtColor(img, cv2.COLOR_BGR2GRAY)\n",
    "        # 使用detector进行人脸检测\n",
    "        dets = detector(gray_img, 1)\n",
    "\n",
    "        for i, d in enumerate(dets):\n",
    "            x1 = d.top() if d.top() > 0 else 0\n",
    "            y1 = d.bottom() if d.bottom() > 0 else 0\n",
    "            x2 = d.left() if d.left() > 0 else 0\n",
    "            y2 = d.right() if d.right() > 0 else 0\n",
    "\n",
    "            face = img[x1:y1, x2:y2]\n",
    "            # 调整图片的对比度与亮度， 对比度与亮度值都取随机数，这样能增加样本的多样性\n",
    "            face = relight(face, random.uniform(0.5, 1.5), random.randint(-50, 50))\n",
    "            face = cv2.resize(face, (size,size))\n",
    "            cv2.imshow('image', face)\n",
    "            cv2.imwrite(output_dir+'/'+str(index)+'.jpg', face)\n",
    "            index += 1\n",
    "\n",
    "        key = cv2.waitKey(30) & 0xff\n",
    "        if key == 27:\n",
    "            break\n",
    "    else:\n",
    "        print('Finished!')\n",
    "        break"
   ]
  },
  {
   "cell_type": "code",
   "execution_count": null,
   "metadata": {},
   "outputs": [],
   "source": []
  },
  {
   "cell_type": "code",
   "execution_count": null,
   "metadata": {},
   "outputs": [],
   "source": []
  },
  {
   "cell_type": "code",
   "execution_count": null,
   "metadata": {},
   "outputs": [],
   "source": []
  }
 ],
 "metadata": {
  "kernelspec": {
   "display_name": "Python 2",
   "language": "python",
   "name": "python2"
  },
  "language_info": {
   "codemirror_mode": {
    "name": "ipython",
    "version": 2
   },
   "file_extension": ".py",
   "mimetype": "text/x-python",
   "name": "python",
   "nbconvert_exporter": "python",
   "pygments_lexer": "ipython2",
   "version": "2.7.13"
  }
 },
 "nbformat": 4,
 "nbformat_minor": 2
}
